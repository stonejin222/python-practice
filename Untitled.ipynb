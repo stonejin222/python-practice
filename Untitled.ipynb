{
 "cells": [
  {
   "cell_type": "code",
   "execution_count": 1,
   "id": "1244e6ef-ed4c-477f-869d-0c7ea971de10",
   "metadata": {},
   "outputs": [],
   "source": [
    "a = 1"
   ]
  },
  {
   "cell_type": "code",
   "execution_count": 2,
   "id": "79649d9c-0700-4c6d-8af4-76f9979b8a64",
   "metadata": {},
   "outputs": [
    {
     "data": {
      "text/plain": [
       "int"
      ]
     },
     "execution_count": 2,
     "metadata": {},
     "output_type": "execute_result"
    }
   ],
   "source": [
    "type(a)"
   ]
  },
  {
   "cell_type": "code",
   "execution_count": 3,
   "id": "60c2b586-054b-43d5-a89e-85d521cf52aa",
   "metadata": {},
   "outputs": [],
   "source": [
    "a = 1\n",
    "b = 2\n",
    "c = 3\n",
    "d = 4"
   ]
  },
  {
   "cell_type": "code",
   "execution_count": 4,
   "id": "9c363951-2e64-4edd-80a0-b0da39b7daf3",
   "metadata": {},
   "outputs": [
    {
     "data": {
      "text/plain": [
       "(3, -1, 2)"
      ]
     },
     "execution_count": 4,
     "metadata": {},
     "output_type": "execute_result"
    }
   ],
   "source": [
    "a + b, a - b, a * b"
   ]
  },
  {
   "cell_type": "code",
   "execution_count": 5,
   "id": "653ac413-1d89-40e4-b892-19eb72b60719",
   "metadata": {},
   "outputs": [
    {
     "name": "stdout",
     "output_type": "stream",
     "text": [
      "3\n",
      "3 -1 3\n"
     ]
    }
   ],
   "source": [
    "print(a + b)\n",
    "print(a+b,a-b,a*c)"
   ]
  },
  {
   "cell_type": "code",
   "execution_count": 6,
   "id": "7facc3c7-aa46-4700-8e89-06a20b0f22aa",
   "metadata": {},
   "outputs": [
    {
     "data": {
      "text/plain": [
       "True"
      ]
     },
     "execution_count": 6,
     "metadata": {},
     "output_type": "execute_result"
    }
   ],
   "source": [
    "10<15"
   ]
  },
  {
   "cell_type": "code",
   "execution_count": 7,
   "id": "807b4594-8a1d-4a26-901a-f3d47e58140a",
   "metadata": {},
   "outputs": [
    {
     "data": {
      "text/plain": [
       "False"
      ]
     },
     "execution_count": 7,
     "metadata": {},
     "output_type": "execute_result"
    }
   ],
   "source": [
    "10<=5"
   ]
  },
  {
   "cell_type": "code",
   "execution_count": 8,
   "id": "41015e8f-11da-4ead-b1b0-7d043e3569c5",
   "metadata": {},
   "outputs": [
    {
     "data": {
      "text/plain": [
       "False"
      ]
     },
     "execution_count": 8,
     "metadata": {},
     "output_type": "execute_result"
    }
   ],
   "source": [
    "10>61"
   ]
  },
  {
   "cell_type": "code",
   "execution_count": 9,
   "id": "b87ce81c-c7a9-42c0-8646-fe477424575f",
   "metadata": {},
   "outputs": [
    {
     "name": "stdout",
     "output_type": "stream",
     "text": [
      "True\n"
     ]
    }
   ],
   "source": [
    "print(bool(1))"
   ]
  },
  {
   "cell_type": "code",
   "execution_count": 10,
   "id": "3a6e3531-9c23-4204-9f34-2a7d49b7829f",
   "metadata": {},
   "outputs": [
    {
     "name": "stdout",
     "output_type": "stream",
     "text": [
      "False\n"
     ]
    }
   ],
   "source": [
    "print(bool(0))"
   ]
  },
  {
   "cell_type": "code",
   "execution_count": 11,
   "id": "dba01aa3-cb28-4d7b-a278-722ee9905527",
   "metadata": {},
   "outputs": [
    {
     "name": "stdout",
     "output_type": "stream",
     "text": [
      "()\n"
     ]
    }
   ],
   "source": [
    "print(())"
   ]
  },
  {
   "cell_type": "code",
   "execution_count": 12,
   "id": "9234841e-6ced-4423-b78f-f47934846275",
   "metadata": {},
   "outputs": [
    {
     "name": "stdout",
     "output_type": "stream",
     "text": [
      "False\n"
     ]
    }
   ],
   "source": [
    "print(bool(\"\"))"
   ]
  },
  {
   "cell_type": "code",
   "execution_count": 13,
   "id": "c802840c-3bca-4c2e-b870-bc2453e277d6",
   "metadata": {},
   "outputs": [
    {
     "name": "stdout",
     "output_type": "stream",
     "text": [
      "True\n"
     ]
    }
   ],
   "source": [
    "print(bool(\"안녕\"))"
   ]
  },
  {
   "cell_type": "code",
   "execution_count": 14,
   "id": "cb74019b-3e4d-4d1b-bd7b-2bdb46263cb9",
   "metadata": {},
   "outputs": [
    {
     "data": {
      "text/plain": [
       "True"
      ]
     },
     "execution_count": 14,
     "metadata": {},
     "output_type": "execute_result"
    }
   ],
   "source": [
    "1 == 1"
   ]
  },
  {
   "cell_type": "code",
   "execution_count": 15,
   "id": "d6426d05-0da3-42bb-baf2-843cd15ddeec",
   "metadata": {},
   "outputs": [
    {
     "data": {
      "text/plain": [
       "False"
      ]
     },
     "execution_count": 15,
     "metadata": {},
     "output_type": "execute_result"
    }
   ],
   "source": [
    "1 == 0"
   ]
  },
  {
   "cell_type": "code",
   "execution_count": 16,
   "id": "f1ba6cfd-9764-426d-bd43-c6c69d0bd1e0",
   "metadata": {},
   "outputs": [
    {
     "data": {
      "text/plain": [
       "False"
      ]
     },
     "execution_count": 16,
     "metadata": {},
     "output_type": "execute_result"
    }
   ],
   "source": [
    "1 != 1"
   ]
  },
  {
   "cell_type": "code",
   "execution_count": 17,
   "id": "a572604a-aec3-444e-8740-966be8855a26",
   "metadata": {},
   "outputs": [
    {
     "data": {
      "text/plain": [
       "False"
      ]
     },
     "execution_count": 17,
     "metadata": {},
     "output_type": "execute_result"
    }
   ],
   "source": [
    "not 1 == 1 #같지 않디"
   ]
  },
  {
   "cell_type": "code",
   "execution_count": 18,
   "id": "6eb22b4b-af83-411c-b516-fc27879f5217",
   "metadata": {},
   "outputs": [
    {
     "data": {
      "text/plain": [
       "False"
      ]
     },
     "execution_count": 18,
     "metadata": {},
     "output_type": "execute_result"
    }
   ],
   "source": [
    "1 == 1 and 1 == 2"
   ]
  },
  {
   "cell_type": "code",
   "execution_count": 19,
   "id": "8128ddaa-0e2d-4c51-bb2e-1f013831ab2a",
   "metadata": {},
   "outputs": [
    {
     "data": {
      "text/plain": [
       "True"
      ]
     },
     "execution_count": 19,
     "metadata": {},
     "output_type": "execute_result"
    }
   ],
   "source": [
    "1 == 1 or 1 == 2"
   ]
  },
  {
   "cell_type": "code",
   "execution_count": 20,
   "id": "ed9012e9-a396-4015-b92b-71b703df432c",
   "metadata": {},
   "outputs": [
    {
     "data": {
      "text/plain": [
       "'Life is too short, You need to Python'"
      ]
     },
     "execution_count": 20,
     "metadata": {},
     "output_type": "execute_result"
    }
   ],
   "source": [
    "\"Life is too short, You need to Python\""
   ]
  },
  {
   "cell_type": "code",
   "execution_count": 21,
   "id": "3ed949fc-5f03-47cb-949d-1496f0c6cf2e",
   "metadata": {},
   "outputs": [
    {
     "data": {
      "text/plain": [
       "'a'"
      ]
     },
     "execution_count": 21,
     "metadata": {},
     "output_type": "execute_result"
    }
   ],
   "source": [
    "\"a\""
   ]
  },
  {
   "cell_type": "code",
   "execution_count": 22,
   "id": "0c615064-acfd-4d03-b06f-cfb2cbedf268",
   "metadata": {},
   "outputs": [
    {
     "data": {
      "text/plain": [
       "'123'"
      ]
     },
     "execution_count": 22,
     "metadata": {},
     "output_type": "execute_result"
    }
   ],
   "source": [
    "\"123\""
   ]
  },
  {
   "cell_type": "code",
   "execution_count": 23,
   "id": "f3474dfa-2067-4897-aa79-276d27908fdb",
   "metadata": {},
   "outputs": [],
   "source": [
    "food = \"Python's favorite food is perl\""
   ]
  },
  {
   "cell_type": "code",
   "execution_count": 24,
   "id": "9236fe61-3e6c-4d62-8f3c-b30876a6122f",
   "metadata": {},
   "outputs": [
    {
     "data": {
      "text/plain": [
       "str"
      ]
     },
     "execution_count": 24,
     "metadata": {},
     "output_type": "execute_result"
    }
   ],
   "source": [
    "type(food)"
   ]
  },
  {
   "cell_type": "code",
   "execution_count": 25,
   "id": "239aadb4-18f0-40a3-aa63-38a4c3f596ab",
   "metadata": {},
   "outputs": [],
   "source": [
    "python = 'pyhton'"
   ]
  },
  {
   "cell_type": "code",
   "execution_count": 27,
   "id": "f4241496-97d4-4f7f-b733-f41e3077789c",
   "metadata": {},
   "outputs": [],
   "source": [
    "a = \"python\"\n",
    "b = 2"
   ]
  },
  {
   "cell_type": "code",
   "execution_count": 28,
   "id": "a4cd933a-a46d-4cc0-aede-5840610e7acd",
   "metadata": {},
   "outputs": [
    {
     "data": {
      "text/plain": [
       "'pythonpython'"
      ]
     },
     "execution_count": 28,
     "metadata": {},
     "output_type": "execute_result"
    }
   ],
   "source": [
    "a * b"
   ]
  },
  {
   "cell_type": "code",
   "execution_count": 29,
   "id": "69be3354-6cf8-436d-ac2b-885129f06bec",
   "metadata": {},
   "outputs": [
    {
     "name": "stdout",
     "output_type": "stream",
     "text": [
      "==================================================\n",
      "My Program\n",
      "==================================================\n"
     ]
    }
   ],
   "source": [
    "print(\"=\"*50)\n",
    "print(\"My Program\")\n",
    "print(\"=\"*50)"
   ]
  },
  {
   "cell_type": "code",
   "execution_count": 2,
   "id": "b46208c9-6ef4-4c7a-8e7e-905441abb187",
   "metadata": {},
   "outputs": [],
   "source": [
    "A = \"안녕하세요 지금은 데이터 전처리 수업 시간입니다.\""
   ]
  },
  {
   "cell_type": "code",
   "execution_count": 3,
   "id": "51824099-bdf8-42e7-a4d1-115a5dc55532",
   "metadata": {},
   "outputs": [
    {
     "data": {
      "text/plain": [
       "list"
      ]
     },
     "execution_count": 3,
     "metadata": {},
     "output_type": "execute_result"
    }
   ],
   "source": [
    "a = [1,2,3,4,5]\n",
    "type(a)"
   ]
  },
  {
   "cell_type": "code",
   "execution_count": 12,
   "id": "a4f34762-65c8-47ed-a25f-108ed312c18e",
   "metadata": {},
   "outputs": [],
   "source": [
    "a = \"독고영재, 50\"\n",
    "b = \"김철수, 30\"\n",
    "c = [a,b]"
   ]
  },
  {
   "cell_type": "code",
   "execution_count": 13,
   "id": "e11ad8f4-5632-4043-8a9c-f6b32a328630",
   "metadata": {},
   "outputs": [
    {
     "name": "stdout",
     "output_type": "stream",
     "text": [
      "['독고영재, 50', '김철수, 30']\n"
     ]
    }
   ],
   "source": [
    "print(c)"
   ]
  },
  {
   "cell_type": "code",
   "execution_count": 11,
   "id": "5ad9ed11-2e89-419a-90c5-1554240b75d4",
   "metadata": {},
   "outputs": [
    {
     "name": "stdout",
     "output_type": "stream",
     "text": [
      "['독고영재', 50, '김철수', 30]\n"
     ]
    }
   ],
   "source": [
    "c = [\"독고영재\", 50, \"김철수\", 30]\n",
    "print(c)"
   ]
  },
  {
   "cell_type": "code",
   "execution_count": 14,
   "id": "058bcf6c-089c-4d03-b8db-51443eb0afda",
   "metadata": {},
   "outputs": [
    {
     "data": {
      "text/plain": [
       "[1, 2, 3, 5, 6, 7]"
      ]
     },
     "execution_count": 14,
     "metadata": {},
     "output_type": "execute_result"
    }
   ],
   "source": [
    "a = [1,2,3]\n",
    "b = [5,6,7]\n",
    "a + b"
   ]
  },
  {
   "cell_type": "code",
   "execution_count": 2,
   "id": "14109c87-994c-41e1-a2c2-ed4d0f6848fa",
   "metadata": {},
   "outputs": [],
   "source": [
    "import numpy as np"
   ]
  },
  {
   "cell_type": "code",
   "execution_count": 11,
   "id": "c7f1caac-f977-4dd7-a017-2bbd367f94e8",
   "metadata": {},
   "outputs": [
    {
     "data": {
      "text/plain": [
       "(3,)"
      ]
     },
     "execution_count": 11,
     "metadata": {},
     "output_type": "execute_result"
    }
   ],
   "source": [
    "a = np.array([1,2,3])\n",
    "b = np.array([5,6,7])\n",
    "c = a + b\n",
    "type(c)\n",
    "c.shape #차원과 변수갯수"
   ]
  },
  {
   "cell_type": "code",
   "execution_count": 21,
   "id": "36bc01e1-db76-495d-8b09-d3d52b5db8cf",
   "metadata": {},
   "outputs": [
    {
     "name": "stdout",
     "output_type": "stream",
     "text": [
      "[[ 6  8 10]\n",
      " [12 14 16]]\n"
     ]
    }
   ],
   "source": [
    "a = np.array([[1,2,3],[4,5,6]])\n",
    "b = np.array([[5,6,7],[8,9,10]]) #2차원 배열 대가로 2개\n",
    "c = a + b\n",
    "type(c)\n",
    "c.shape #다음 차원에 들어간 갯수 \n",
    "print(c)"
   ]
  },
  {
   "cell_type": "code",
   "execution_count": 16,
   "id": "bc2d7f90-a6cb-4dc8-bd60-6746d354169f",
   "metadata": {},
   "outputs": [
    {
     "data": {
      "text/plain": [
       "(1, 3, 3)"
      ]
     },
     "execution_count": 16,
     "metadata": {},
     "output_type": "execute_result"
    }
   ],
   "source": [
    "a = np.array([[[1,2,3],[4,5,6],[7,8,9]]])\n",
    "a.shape # 하나의 3차원 배열,안에 3개의 배열, 안에 3개의 요소"
   ]
  },
  {
   "cell_type": "code",
   "execution_count": 17,
   "id": "8d86f12a-d604-4d85-adad-a19d2d205633",
   "metadata": {},
   "outputs": [
    {
     "data": {
      "text/plain": [
       "'안녕하세'"
      ]
     },
     "execution_count": 17,
     "metadata": {},
     "output_type": "execute_result"
    }
   ],
   "source": [
    "a = \"안녕하세요 지금은 데이터 전처리 수업 시간입니다.\" #하나의 차원으로 접근했을 때 각각의 순서값이 있다고 생각 \n",
    "a[0:4] # 문자열 인덱싱(연속적 객체 범위 지정선택 갖고오는 방법/데이터를 뽑아내는 일 ) 사용가능 [시작범위:직전범위]"
   ]
  },
  {
   "cell_type": "code",
   "execution_count": 25,
   "id": "9cf277eb-706a-4dc0-9d0a-441b840b58c8",
   "metadata": {},
   "outputs": [
    {
     "data": {
      "text/plain": [
       "'간입니다.'"
      ]
     },
     "execution_count": 25,
     "metadata": {},
     "output_type": "execute_result"
    }
   ],
   "source": [
    "a = \"안녕하세요 지금은 데이터 전처리 수업 시간입니다.\"\n",
    "a[-1]\n",
    "a[-5:] # -1,-2,-3,-4,-5 시작범위부터 끝까지 "
   ]
  },
  {
   "cell_type": "code",
   "execution_count": 26,
   "id": "6951df58-e0b7-45ee-946c-832fdef15444",
   "metadata": {},
   "outputs": [
    {
     "data": {
      "text/plain": [
       "'.jpg'"
      ]
     },
     "execution_count": 26,
     "metadata": {},
     "output_type": "execute_result"
    }
   ],
   "source": [
    "a = \"안녕하세요.jpg\"\n",
    "a[-4:]"
   ]
  },
  {
   "cell_type": "code",
   "execution_count": 27,
   "id": "c093642f-66d7-4233-b28f-49caae6eadb1",
   "metadata": {},
   "outputs": [
    {
     "name": "stdout",
     "output_type": "stream",
     "text": [
      "수학점수:50 그리고 영어점수:40\n"
     ]
    }
   ],
   "source": [
    "a = 50\n",
    "b = 40\n",
    "print(\"수학점수:50 그리고 영어점수:40\")"
   ]
  },
  {
   "cell_type": "code",
   "execution_count": 34,
   "id": "322437df-b70f-4632-8780-4997c8bf0341",
   "metadata": {},
   "outputs": [
    {
     "name": "stdout",
     "output_type": "stream",
     "text": [
      "수학점수:50 그리고 영어점수:40\n"
     ]
    }
   ],
   "source": [
    "a = 50\n",
    "b = 40\n",
    "print((\"수학점수:{} 그리고 영어점수:{}\").format(a,b))"
   ]
  },
  {
   "cell_type": "code",
   "execution_count": 35,
   "id": "6a6c0be2-99a2-4b1c-8900-b6c993a10be3",
   "metadata": {},
   "outputs": [
    {
     "name": "stdout",
     "output_type": "stream",
     "text": [
      "www.youtube.com/\n"
     ]
    }
   ],
   "source": [
    "url = \"https://www.youtube.com/\"\n",
    "str = url.replace(\"https://\",\"\") #(\"기존의 문자\".\"변환하고 싶은 문자\")\n",
    "print(str)"
   ]
  },
  {
   "cell_type": "code",
   "execution_count": 36,
   "id": "a48743a5-b71d-49dc-964c-1a377291254b",
   "metadata": {},
   "outputs": [
    {
     "data": {
      "text/plain": [
       "[10, 20, 30, 40]"
      ]
     },
     "execution_count": 36,
     "metadata": {},
     "output_type": "execute_result"
    }
   ],
   "source": [
    "a = [10,20,30,40,50,60,70,80,90]\n",
    "a[0:4]"
   ]
  },
  {
   "cell_type": "code",
   "execution_count": 37,
   "id": "35fed19a-4e6c-4d77-ad60-efe46e7d644d",
   "metadata": {},
   "outputs": [
    {
     "data": {
      "text/plain": [
       "(10, 60)"
      ]
     },
     "execution_count": 37,
     "metadata": {},
     "output_type": "execute_result"
    }
   ],
   "source": [
    "a = [10,20,30,40,50,60,70,80,90]\n",
    "a[0],a[5]"
   ]
  },
  {
   "cell_type": "code",
   "execution_count": 42,
   "id": "a8ee9704-377b-4ff2-ac2f-2d1ae50a4971",
   "metadata": {},
   "outputs": [
    {
     "data": {
      "text/plain": [
       "'독고영재'"
      ]
     },
     "execution_count": 42,
     "metadata": {},
     "output_type": "execute_result"
    }
   ],
   "source": [
    "a = [\"독고영재, 50\", \"김철수, 30\"]\n",
    "a[0][0:4]"
   ]
  },
  {
   "cell_type": "code",
   "execution_count": 44,
   "id": "3fa7e130-cd75-4544-a2cb-ef36c717d6ae",
   "metadata": {},
   "outputs": [
    {
     "data": {
      "text/plain": [
       "'독고영재'"
      ]
     },
     "execution_count": 44,
     "metadata": {},
     "output_type": "execute_result"
    }
   ],
   "source": [
    "a = \"독고영재, 50\"\n",
    "a[:a.index(\",\")] #변수[:변수.index(\"직전까지 문자\")],툭정조건도 들어갈 수 있음 "
   ]
  },
  {
   "cell_type": "code",
   "execution_count": 2,
   "id": "224dd8db-b5a3-4399-8aa4-66984922207c",
   "metadata": {},
   "outputs": [],
   "source": [
    "a = [\"독고영재, 50\",\"김철수,30\"]"
   ]
  },
  {
   "cell_type": "code",
   "execution_count": 31,
   "id": "5aa2afb9-8727-4ef0-962f-5b73247040fc",
   "metadata": {},
   "outputs": [
    {
     "data": {
      "text/plain": [
       "'독고영재'"
      ]
     },
     "execution_count": 31,
     "metadata": {},
     "output_type": "execute_result"
    }
   ],
   "source": [
    "a[0][:a[0].index(\",\")]"
   ]
  },
  {
   "cell_type": "code",
   "execution_count": 21,
   "id": "a31539e7-61be-41e9-8562-f90534014389",
   "metadata": {},
   "outputs": [],
   "source": [
    "b = [\"김철수\",20,\"김영희,25\"]"
   ]
  },
  {
   "cell_type": "code",
   "execution_count": 33,
   "id": "3c6ba6aa-a46f-4de1-842c-b74215554d38",
   "metadata": {},
   "outputs": [
    {
     "data": {
      "text/plain": [
       "'김영희'"
      ]
     },
     "execution_count": 33,
     "metadata": {},
     "output_type": "execute_result"
    }
   ],
   "source": [
    "b[2][:b[2].index(\",\")]"
   ]
  },
  {
   "cell_type": "code",
   "execution_count": null,
   "id": "12c096a2-4677-4d9f-8103-0db84cac180e",
   "metadata": {},
   "outputs": [],
   "source": []
  },
  {
   "cell_type": "code",
   "execution_count": null,
   "id": "fc18ec0a-cf69-4d40-91b8-e0a0ee2aae9f",
   "metadata": {},
   "outputs": [],
   "source": []
  }
 ],
 "metadata": {
  "kernelspec": {
   "display_name": "data2",
   "language": "python",
   "name": "data2"
  },
  "language_info": {
   "codemirror_mode": {
    "name": "ipython",
    "version": 3
   },
   "file_extension": ".py",
   "mimetype": "text/x-python",
   "name": "python",
   "nbconvert_exporter": "python",
   "pygments_lexer": "ipython3",
   "version": "3.8.19"
  }
 },
 "nbformat": 4,
 "nbformat_minor": 5
}
